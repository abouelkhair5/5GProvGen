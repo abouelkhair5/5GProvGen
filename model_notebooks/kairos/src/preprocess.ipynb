{
 "cells": [
  {
   "cell_type": "markdown",
   "metadata": {},
   "source": [
    "Input: Camflow Logs parsed by unicorn parser\n",
    "\n",
    "Output Vectorized Graphs"
   ]
  },
  {
   "cell_type": "code",
   "execution_count": 1,
   "metadata": {},
   "outputs": [
    {
     "name": "stderr",
     "output_type": "stream",
     "text": [
      "/home/aabouelk/anaconda3/envs/kairos/lib/python3.9/site-packages/tqdm/auto.py:21: TqdmWarning: IProgress not found. Please update jupyter and ipywidgets. See https://ipywidgets.readthedocs.io/en/stable/user_install.html\n",
      "  from .autonotebook import tqdm as notebook_tqdm\n"
     ]
    }
   ],
   "source": [
    "import os \n",
    "from os import path as osp\n",
    "import torch\n",
    "from tqdm import tqdm, trange\n",
    "from torch_geometric.data import *\n",
    "import psycopg2\n",
    "from psycopg2 import extras as ex"
   ]
  },
  {
   "cell_type": "code",
   "execution_count": 2,
   "metadata": {},
   "outputs": [],
   "source": [
    "connect = psycopg2.connect(\n",
    "    database = 'camflow',\n",
    "    host = '/var/run/postgresql/',\n",
    "    user = 'postgres',\n",
    "    password = 'postgres',\n",
    "    port = '5432'\n",
    ")\n",
    "\n",
    "cur = connect.cursor()\n",
    "connect.rollback()"
   ]
  },
  {
   "cell_type": "code",
   "execution_count": 3,
   "metadata": {},
   "outputs": [],
   "source": [
    "# If the data is already in the database\n",
    "process_raw_data = True\n",
    "clean_database = False\n",
    "node_types = set()\n",
    "edge_types = set()"
   ]
  },
  {
   "cell_type": "code",
   "execution_count": 4,
   "metadata": {},
   "outputs": [],
   "source": [
    "if clean_database:    \n",
    "    for graph_id in trange(220):\n",
    "        sql = f\"delete from raw_data where graph_id='{graph_id}';\"\n",
    "        cur.execute(sql)\n",
    "        connect.commit()"
   ]
  },
  {
   "cell_type": "code",
   "execution_count": 5,
   "metadata": {},
   "outputs": [
    {
     "name": "stderr",
     "output_type": "stream",
     "text": [
      "  0%|          | 0/33 [00:00<?, ?it/s]"
     ]
    },
    {
     "name": "stdout",
     "output_type": "stream",
     "text": [
      "291283.3333333333\n"
     ]
    },
    {
     "name": "stderr",
     "output_type": "stream",
     "text": [
      "873850it [00:24, 35096.95it/s]\n",
      "  3%|▎         | 1/33 [00:25<13:21, 25.04s/it]"
     ]
    },
    {
     "name": "stdout",
     "output_type": "stream",
     "text": [
      "295746.0\n"
     ]
    },
    {
     "name": "stderr",
     "output_type": "stream",
     "text": [
      "887238it [00:24, 36327.20it/s]\n",
      "  6%|▌         | 2/33 [00:49<12:47, 24.76s/it]"
     ]
    },
    {
     "name": "stdout",
     "output_type": "stream",
     "text": [
      "298261.3333333333\n"
     ]
    },
    {
     "name": "stderr",
     "output_type": "stream",
     "text": [
      "894784it [00:25, 35611.49it/s]\n",
      "  9%|▉         | 3/33 [01:14<12:29, 24.98s/it]"
     ]
    },
    {
     "name": "stdout",
     "output_type": "stream",
     "text": [
      "297742.0\n"
     ]
    },
    {
     "name": "stderr",
     "output_type": "stream",
     "text": [
      "893226it [00:26, 34335.38it/s]\n",
      " 12%|█▏        | 4/33 [01:41<12:17, 25.45s/it]"
     ]
    },
    {
     "name": "stdout",
     "output_type": "stream",
     "text": [
      "297895.6666666667\n"
     ]
    },
    {
     "name": "stderr",
     "output_type": "stream",
     "text": [
      "893687it [00:25, 34730.18it/s]\n",
      " 15%|█▌        | 5/33 [02:06<11:56, 25.59s/it]"
     ]
    },
    {
     "name": "stdout",
     "output_type": "stream",
     "text": [
      "297788.6666666667\n"
     ]
    },
    {
     "name": "stderr",
     "output_type": "stream",
     "text": [
      "893366it [00:25, 34389.31it/s]\n",
      " 18%|█▊        | 6/33 [02:32<11:35, 25.77s/it]"
     ]
    },
    {
     "name": "stdout",
     "output_type": "stream",
     "text": [
      "297281.3333333333\n"
     ]
    },
    {
     "name": "stderr",
     "output_type": "stream",
     "text": [
      "891844it [00:26, 34265.54it/s]\n",
      " 21%|██        | 7/33 [02:59<11:13, 25.91s/it]"
     ]
    },
    {
     "name": "stdout",
     "output_type": "stream",
     "text": [
      "297516.3333333333\n"
     ]
    },
    {
     "name": "stderr",
     "output_type": "stream",
     "text": [
      "892549it [00:26, 33924.49it/s]\n",
      " 24%|██▍       | 8/33 [03:25<10:52, 26.09s/it]"
     ]
    },
    {
     "name": "stdout",
     "output_type": "stream",
     "text": [
      "297593.6666666667\n"
     ]
    },
    {
     "name": "stderr",
     "output_type": "stream",
     "text": [
      "892781it [00:25, 34932.59it/s]\n",
      " 27%|██▋       | 9/33 [03:51<10:23, 25.97s/it]"
     ]
    },
    {
     "name": "stdout",
     "output_type": "stream",
     "text": [
      "297263.0\n"
     ]
    },
    {
     "name": "stderr",
     "output_type": "stream",
     "text": [
      "891789it [00:26, 34270.01it/s]\n",
      " 30%|███       | 10/33 [04:17<09:58, 26.04s/it]"
     ]
    },
    {
     "name": "stdout",
     "output_type": "stream",
     "text": [
      "296651.3333333333\n"
     ]
    },
    {
     "name": "stderr",
     "output_type": "stream",
     "text": [
      "889954it [00:25, 34592.98it/s]\n",
      " 33%|███▎      | 11/33 [04:43<09:31, 25.98s/it]"
     ]
    },
    {
     "name": "stdout",
     "output_type": "stream",
     "text": [
      "297445.6666666667\n"
     ]
    },
    {
     "name": "stderr",
     "output_type": "stream",
     "text": [
      "892337it [00:26, 34129.72it/s]\n",
      " 36%|███▋      | 12/33 [05:09<09:07, 26.08s/it]"
     ]
    },
    {
     "name": "stdout",
     "output_type": "stream",
     "text": [
      "297746.0\n"
     ]
    },
    {
     "name": "stderr",
     "output_type": "stream",
     "text": [
      "893238it [00:26, 34303.53it/s]\n",
      " 39%|███▉      | 13/33 [05:35<08:42, 26.11s/it]"
     ]
    },
    {
     "name": "stdout",
     "output_type": "stream",
     "text": [
      "297059.0\n"
     ]
    },
    {
     "name": "stderr",
     "output_type": "stream",
     "text": [
      "891177it [00:25, 34527.13it/s]\n",
      " 42%|████▏     | 14/33 [06:01<08:15, 26.07s/it]"
     ]
    },
    {
     "name": "stdout",
     "output_type": "stream",
     "text": [
      "297389.6666666667\n"
     ]
    },
    {
     "name": "stderr",
     "output_type": "stream",
     "text": [
      "892169it [00:25, 35037.70it/s]\n",
      " 45%|████▌     | 15/33 [06:27<07:46, 25.93s/it]"
     ]
    },
    {
     "name": "stdout",
     "output_type": "stream",
     "text": [
      "297449.0\n"
     ]
    },
    {
     "name": "stderr",
     "output_type": "stream",
     "text": [
      "892347it [00:25, 34651.99it/s]\n",
      " 48%|████▊     | 16/33 [06:53<07:20, 25.93s/it]"
     ]
    },
    {
     "name": "stdout",
     "output_type": "stream",
     "text": [
      "297232.3333333333\n"
     ]
    },
    {
     "name": "stderr",
     "output_type": "stream",
     "text": [
      "891697it [00:25, 34998.87it/s]\n",
      " 52%|█████▏    | 17/33 [07:18<06:53, 25.83s/it]"
     ]
    },
    {
     "name": "stdout",
     "output_type": "stream",
     "text": [
      "297567.6666666667\n"
     ]
    },
    {
     "name": "stderr",
     "output_type": "stream",
     "text": [
      "892703it [00:25, 34720.90it/s]\n",
      " 55%|█████▍    | 18/33 [07:44<06:27, 25.84s/it]"
     ]
    },
    {
     "name": "stdout",
     "output_type": "stream",
     "text": [
      "297925.3333333333\n"
     ]
    },
    {
     "name": "stderr",
     "output_type": "stream",
     "text": [
      "893776it [00:25, 34541.48it/s]\n",
      " 58%|█████▊    | 19/33 [08:10<06:02, 25.89s/it]"
     ]
    },
    {
     "name": "stdout",
     "output_type": "stream",
     "text": [
      "297102.6666666667\n"
     ]
    },
    {
     "name": "stderr",
     "output_type": "stream",
     "text": [
      "891308it [00:25, 34421.91it/s]\n",
      " 61%|██████    | 20/33 [08:36<05:37, 25.93s/it]"
     ]
    },
    {
     "name": "stdout",
     "output_type": "stream",
     "text": [
      "297420.0\n"
     ]
    },
    {
     "name": "stderr",
     "output_type": "stream",
     "text": [
      "892260it [00:25, 34705.51it/s]\n",
      " 64%|██████▎   | 21/33 [09:02<05:10, 25.91s/it]"
     ]
    },
    {
     "name": "stdout",
     "output_type": "stream",
     "text": [
      "296804.0\n"
     ]
    },
    {
     "name": "stderr",
     "output_type": "stream",
     "text": [
      "890412it [00:25, 34460.14it/s]\n",
      " 67%|██████▋   | 22/33 [09:28<04:45, 25.94s/it]"
     ]
    },
    {
     "name": "stdout",
     "output_type": "stream",
     "text": [
      "297274.6666666667\n"
     ]
    },
    {
     "name": "stderr",
     "output_type": "stream",
     "text": [
      "891824it [00:26, 34112.49it/s]\n",
      " 70%|██████▉   | 23/33 [09:55<04:20, 26.04s/it]"
     ]
    },
    {
     "name": "stdout",
     "output_type": "stream",
     "text": [
      "297141.0\n"
     ]
    },
    {
     "name": "stderr",
     "output_type": "stream",
     "text": [
      "891423it [00:25, 34728.51it/s]\n",
      " 73%|███████▎  | 24/33 [10:20<03:53, 25.97s/it]"
     ]
    },
    {
     "name": "stdout",
     "output_type": "stream",
     "text": [
      "297402.3333333333\n"
     ]
    },
    {
     "name": "stderr",
     "output_type": "stream",
     "text": [
      "892207it [00:25, 35035.75it/s]\n",
      " 76%|███████▌  | 25/33 [10:46<03:26, 25.87s/it]"
     ]
    },
    {
     "name": "stdout",
     "output_type": "stream",
     "text": [
      "296741.3333333333\n"
     ]
    },
    {
     "name": "stderr",
     "output_type": "stream",
     "text": [
      "890224it [00:25, 34665.73it/s]\n",
      " 79%|███████▉  | 26/33 [11:12<03:00, 25.85s/it]"
     ]
    },
    {
     "name": "stdout",
     "output_type": "stream",
     "text": [
      "296825.0\n"
     ]
    },
    {
     "name": "stderr",
     "output_type": "stream",
     "text": [
      "890475it [00:25, 34516.47it/s]\n",
      " 82%|████████▏ | 27/33 [11:38<02:35, 25.88s/it]"
     ]
    },
    {
     "name": "stdout",
     "output_type": "stream",
     "text": [
      "296895.0\n"
     ]
    },
    {
     "name": "stderr",
     "output_type": "stream",
     "text": [
      "890685it [00:25, 34994.90it/s]\n",
      " 85%|████████▍ | 28/33 [12:03<02:08, 25.80s/it]"
     ]
    },
    {
     "name": "stdout",
     "output_type": "stream",
     "text": [
      "297781.6666666667\n"
     ]
    },
    {
     "name": "stderr",
     "output_type": "stream",
     "text": [
      "893345it [00:26, 34225.01it/s]\n",
      " 88%|████████▊ | 29/33 [12:30<01:43, 25.94s/it]"
     ]
    },
    {
     "name": "stdout",
     "output_type": "stream",
     "text": [
      "297077.6666666667\n"
     ]
    },
    {
     "name": "stderr",
     "output_type": "stream",
     "text": [
      "891233it [00:25, 34695.64it/s]\n",
      " 91%|█████████ | 30/33 [12:55<01:17, 25.91s/it]"
     ]
    },
    {
     "name": "stdout",
     "output_type": "stream",
     "text": [
      "297139.6666666667\n"
     ]
    },
    {
     "name": "stderr",
     "output_type": "stream",
     "text": [
      "891419it [00:25, 35375.39it/s]\n",
      " 94%|█████████▍| 31/33 [13:21<00:51, 25.73s/it]"
     ]
    },
    {
     "name": "stdout",
     "output_type": "stream",
     "text": [
      "296628.6666666667\n"
     ]
    },
    {
     "name": "stderr",
     "output_type": "stream",
     "text": [
      "889886it [00:22, 38722.45it/s]\n",
      " 97%|█████████▋| 32/33 [13:44<00:24, 24.95s/it]"
     ]
    },
    {
     "name": "stdout",
     "output_type": "stream",
     "text": [
      "296836.0\n"
     ]
    },
    {
     "name": "stderr",
     "output_type": "stream",
     "text": [
      "890508it [00:24, 36915.16it/s]\n",
      "100%|██████████| 33/33 [14:08<00:00, 25.72s/it]\n"
     ]
    }
   ],
   "source": [
    "\n",
    "ds_path = '/home/aabouelk/ds/camflow/'\n",
    "benign_date = '30-04-2024'\n",
    "n_splits = 33\n",
    "graphs_per_file = 3\n",
    "\n",
    "node_size = []\n",
    "for idx in trange(n_splits):\n",
    "    path = osp.join(ds_path, benign_date, f'preprocessed/preprocessed-{idx}.txt')  # The paths to the dataset.\n",
    "    datalist = []\n",
    "    lines_in_file = 0\n",
    "    with open(path, 'rb') as f:\n",
    "        lines_in_file = sum(1 for _ in f)\n",
    "    lines_per_graph = lines_in_file / graphs_per_file\n",
    "    print(lines_per_graph)\n",
    "    line_count = 0\n",
    "    graph_idx = 0 \n",
    "    node_map = {}\n",
    "    with open(path) as f:\n",
    "        for line in tqdm(f):\n",
    "            src_id, dest_id, types = line.strip('\\n').split('\\t')\n",
    "            src_type, dest_type, edge_type, ts = types.split(\":\")\n",
    "            if src_id not in node_map:\n",
    "                node_map[src_id] = len(node_map)\n",
    "            src_id = node_map[src_id]\n",
    "            if dest_id not in node_map:\n",
    "                node_map[dest_id] = len(node_map)\n",
    "            dest_id = node_map[dest_id]\n",
    "            \n",
    "            spl = [\n",
    "                src_id,\n",
    "                src_type,\n",
    "                dest_id,\n",
    "                dest_type,\n",
    "                edge_type,\n",
    "                ts,\n",
    "                (idx * graphs_per_file)+ graph_idx,\n",
    "                ]\n",
    "            datalist.append(spl)\n",
    "            node_types.add(src_type)\n",
    "            node_types.add(dest_type)\n",
    "            edge_types.add(edge_type)\n",
    "            line_count += 1\n",
    "            if line_count > graph_idx * lines_per_graph:\n",
    "                graph_idx += 1\n",
    "                #node_size.append(len(node_map))\n",
    "                node_map = {}\n",
    "            if len(datalist) >= 10000 and process_raw_data:\n",
    "                sql = '''insert into raw_data\n",
    "                values %s\n",
    "                '''\n",
    "                ex.execute_values(cur, sql, datalist, page_size=10000)\n",
    "                connect.commit()\n",
    "                datalist = []\n",
    "# print(node_size)\n",
    "# print(len(node_map))"
   ]
  },
  {
   "cell_type": "code",
   "execution_count": 6,
   "metadata": {},
   "outputs": [
    {
     "name": "stdout",
     "output_type": "stream",
     "text": [
      "54\n"
     ]
    }
   ],
   "source": [
    "print(len(edge_types))"
   ]
  },
  {
   "cell_type": "code",
   "execution_count": 50,
   "metadata": {},
   "outputs": [
    {
     "name": "stderr",
     "output_type": "stream",
     "text": [
      "  0%|          | 0/4 [00:00<?, ?it/s]"
     ]
    },
    {
     "name": "stdout",
     "output_type": "stream",
     "text": [
      "262225.88\n"
     ]
    },
    {
     "name": "stderr",
     "output_type": "stream",
     "text": [
      "6555647it [02:48, 39012.49it/s]\n",
      " 25%|██▌       | 1/4 [02:48<08:26, 168.76s/it]"
     ]
    },
    {
     "name": "stdout",
     "output_type": "stream",
     "text": [
      "262146.28\n"
     ]
    },
    {
     "name": "stderr",
     "output_type": "stream",
     "text": [
      "6553657it [02:48, 38921.90it/s]\n",
      " 50%|█████     | 2/4 [05:38<05:38, 169.05s/it]"
     ]
    },
    {
     "name": "stdout",
     "output_type": "stream",
     "text": [
      "261996.96\n"
     ]
    },
    {
     "name": "stderr",
     "output_type": "stream",
     "text": [
      "6549924it [02:45, 39472.86it/s]\n",
      " 75%|███████▌  | 3/4 [08:24<02:48, 168.02s/it]"
     ]
    },
    {
     "name": "stdout",
     "output_type": "stream",
     "text": [
      "261927.36\n"
     ]
    },
    {
     "name": "stderr",
     "output_type": "stream",
     "text": [
      "6548184it [02:45, 39518.27it/s]\n",
      "100%|██████████| 4/4 [11:11<00:00, 167.83s/it]\n"
     ]
    }
   ],
   "source": [
    "ds_path = '/home/aabouelk/ds/camflow/'\n",
    "attack_date = '26-05-2024'\n",
    "a_splits = 1\n",
    "\n",
    "for idx in trange(10, 14):\n",
    "    path = osp.join(ds_path, attack_date, f'preprocessed/preprocessed-{idx}.txt')  # The paths to the dataset.\n",
    "    datalist = []\n",
    "\n",
    "    graphs_per_file = 25\n",
    "    lines_in_file = 0\n",
    "    with open(path, 'rb') as f:\n",
    "        lines_in_file = sum(1 for _ in f)\n",
    "    lines_per_graph = lines_in_file / graphs_per_file\n",
    "    print(lines_per_graph)\n",
    "    line_count = 0\n",
    "    graph_idx = 1\n",
    "    attack_start_idx = 99\n",
    "    with open(path) as f:\n",
    "        node_map = {}\n",
    "        for line in tqdm(f):\n",
    "            src_id, dest_id, types = line.strip('\\n').split('\\t')\n",
    "            src_type, dest_type, edge_type, ts = types.split(\":\")\n",
    "            if src_id not in node_map:\n",
    "                node_map[src_id] = len(node_map)\n",
    "            src_id = node_map[src_id]\n",
    "            if dest_id not in node_map:\n",
    "                node_map[dest_id] = len(node_map)\n",
    "            dest_id = node_map[dest_id]\n",
    "            spl = [\n",
    "                src_id,\n",
    "                src_type,\n",
    "                dest_id,\n",
    "                dest_type,\n",
    "                edge_type,\n",
    "                ts,\n",
    "                attack_start_idx + ((idx-10) * graphs_per_file)+ graph_idx,\n",
    "                ]\n",
    "            line_count += 1\n",
    "            if line_count > graph_idx * lines_per_graph:\n",
    "                graph_idx += 1\n",
    "            datalist.append(spl)\n",
    "            node_types.add(src_type)\n",
    "            node_types.add(dest_type)\n",
    "            edge_types.add(edge_type)\n",
    "            if len(datalist) >= 10000 and process_raw_data:\n",
    "                sql = '''insert into raw_data\n",
    "                values %s\n",
    "                '''\n",
    "                ex.execute_values(cur, sql, datalist, page_size=10000)\n",
    "                connect.commit()\n",
    "                datalist = []"
   ]
  },
  {
   "cell_type": "code",
   "execution_count": 51,
   "metadata": {},
   "outputs": [],
   "source": [
    "nodevec = torch.nn.functional.one_hot(torch.arange(0, len(node_types)), num_classes=len(node_types))\n",
    "edgevec = torch.nn.functional.one_hot(torch.arange(0, len(edge_types)), num_classes=len(edge_types))\n",
    "\n",
    "edge2onehot = {}\n",
    "node2onehot = {}\n",
    "c = 0\n",
    "for i in node_types:\n",
    "    node2onehot[i] = nodevec[c]\n",
    "    c += 1\n",
    "c = 0\n",
    "for i in edge_types:\n",
    "    edge2onehot[i] = edgevec[c]\n",
    "    c += 1\n"
   ]
  },
  {
   "cell_type": "code",
   "execution_count": 52,
   "metadata": {},
   "outputs": [
    {
     "name": "stderr",
     "output_type": "stream",
     "text": [
      "100%|██████████| 199/199 [19:40<00:00,  5.93s/it]"
     ]
    },
    {
     "name": "stdout",
     "output_type": "stream",
     "text": [
      "end\n"
     ]
    },
    {
     "name": "stderr",
     "output_type": "stream",
     "text": [
      "\n"
     ]
    }
   ],
   "source": [
    "data_dir = \"../data/camflow250\"\n",
    "os.system(f\"mkdir -p {data_dir}\")\n",
    "for graph_id in trange(199):\n",
    "    sql = \"select * from raw_data where graph_id='{graph_id}' ORDER BY _id;\".format(graph_id=graph_id)\n",
    "    cur.execute(sql)\n",
    "    rows = cur.fetchall()\n",
    "    from torch_geometric.data import TemporalData\n",
    "\n",
    "    dataset = TemporalData()\n",
    "    src = []\n",
    "    dst = []\n",
    "    msg = []\n",
    "    t = []\n",
    "    for i in rows:\n",
    "        src.append(int(i[0]))\n",
    "        srconehot = node2onehot[i[1]]\n",
    "        dst.append(int(i[2]))\n",
    "        destonehot = node2onehot[i[3]]\n",
    "        edgeonehot = edge2onehot[i[4]]\n",
    "        msg_t = torch.cat([srconehot, edgeonehot, destonehot], dim=0)\n",
    "        msg.append(msg_t)\n",
    "        t.append(int(i[-1]))    # Use logical order of the event to represent the time\n",
    "    dataset.src = torch.tensor(src)\n",
    "    dataset.dst = torch.tensor(dst)\n",
    "    dataset.t = torch.tensor(t)\n",
    "    dataset.msg = torch.vstack(msg)\n",
    "    dataset.src = dataset.src.to(torch.long)\n",
    "    dataset.dst = dataset.dst.to(torch.long)\n",
    "    dataset.msg = dataset.msg.to(torch.float)\n",
    "    dataset.t = dataset.t.to(torch.long)\n",
    "    torch.save(dataset, f\"{data_dir}/graph_\" + str(graph_id) + \".TemporalData\")\n",
    "\n",
    "print(\"end\")"
   ]
  },
  {
   "cell_type": "code",
   "execution_count": null,
   "metadata": {},
   "outputs": [],
   "source": []
  },
  {
   "cell_type": "code",
   "execution_count": null,
   "metadata": {},
   "outputs": [],
   "source": []
  }
 ],
 "metadata": {
  "kernelspec": {
   "display_name": "kairos",
   "language": "python",
   "name": "python3"
  },
  "language_info": {
   "codemirror_mode": {
    "name": "ipython",
    "version": 3
   },
   "file_extension": ".py",
   "mimetype": "text/x-python",
   "name": "python",
   "nbconvert_exporter": "python",
   "pygments_lexer": "ipython3",
   "version": "3.9.19"
  }
 },
 "nbformat": 4,
 "nbformat_minor": 2
}
